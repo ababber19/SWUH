{
 "cells": [
  {
   "cell_type": "code",
   "execution_count": 1,
   "id": "7b991e69",
   "metadata": {},
   "outputs": [],
   "source": [
    "import pandas as pd\n",
    "import numpy as np\n",
    "import os\n",
    "import glob\n",
    "import matplotlib.pyplot as plt"
   ]
  },
  {
   "cell_type": "code",
   "execution_count": 2,
   "id": "b08d4d21",
   "metadata": {},
   "outputs": [],
   "source": [
    "# Imports file containing projects\n",
    "path = os.path.join(os.getcwd(), \"World_Bank_Projects_downloaded_11_2_2022.xls\")\n",
    "\n",
    "projects = pd.read_excel(path, header=1)\n",
    "projects = projects[1:]"
   ]
  },
  {
   "cell_type": "markdown",
   "id": "01c5f011",
   "metadata": {},
   "source": [
    "## 1) Drop unnecessary columns"
   ]
  },
  {
   "cell_type": "code",
   "execution_count": 3,
   "id": "f7afcfd3",
   "metadata": {},
   "outputs": [],
   "source": [
    "projects = projects.drop([\"Sector 2\", \"Sector 3\", \"Theme 1\", \"Theme 2\"], axis=1)"
   ]
  },
  {
   "cell_type": "markdown",
   "id": "a7194e48",
   "metadata": {},
   "source": [
    "## 2) Generalize sectors for every project\n",
    "### (e.g. crop -> agriculture)"
   ]
  },
  {
   "cell_type": "code",
   "execution_count": 4,
   "id": "2a378f67",
   "metadata": {},
   "outputs": [],
   "source": [
    "# Maps sub-sectors to larger topic sectors\n",
    "\n",
    "sector_map = {\n",
    "    \"Agriculture\": [\"agricultur\", \"agro\", \"crop\", \"livestock\", \"animal\", \"fishing\", \"fisher\", \"forestry\", \"fertilizer\"],\n",
    "    \"Infrastructure\": [\"infrastructure\",\"irrigation\", \"mining\", \"manufactur\", \"sanitation\", \"water\", \"waste\", \"sewage\", \"sewer\", \"telecommunications\", \"housing\", \"urban\", \"development\", \"flood\"],\n",
    "    \"Health\": [\"health\", \"hospital\", \"hiv\", \"nutrition\"],\n",
    "    \"Education\": [\"education\", \"vocation\", ],\n",
    "    \"Energy\": [\"energy\", \"renewable\", \"wind\", \"power\", \"thermal\", \"hydro\", \"oil\", \"gas\", \"fuel\"],\n",
    "    \"Transportation\": [\"transport\", \"railway\", \"aviation\", \"waterway\", \"port\", \"road\", \"highway\", \"distribut\"],\n",
    "    \"Economic\": [\"decentralization\", \"trade\", \"financ\", \"business\", \"capital\", \"enterprise\", \"banking\"],\n",
    "    \"Industrial\": [\"industr\", \"refining\", \"research\"],\n",
    "    \"Institutions and Governance\": [\"institution\", \"service\", \"government\", \"management\", \"justice\"],\n",
    "    \"Other\": [\"other\", \"reform\", \"privat\", \"environment\", \"non-sector\", \"tourism\", \"insurance\", \"communication\", \"media\", \"social\"]\n",
    "}"
   ]
  },
  {
   "cell_type": "code",
   "execution_count": 5,
   "id": "89af87d2",
   "metadata": {},
   "outputs": [],
   "source": [
    "# Creates new column (\"Generalized Sector\"), and maps values according to above dict\n",
    "projects[\"Generalized Sector\"] = projects[\"Sector 1\"]\n",
    "\n",
    "projects[\"Generalized Sector\"].fillna(\"NA\", inplace=True)\n",
    "\n",
    "projects = projects.drop([\"Sector 1\"], axis=1)\n",
    "\n",
    "for k, v in sector_map.items():\n",
    "    for val in v:\n",
    "         projects.loc[projects[\"Generalized Sector\"].str.contains(val, case=False), \"Generalized Sector\"] = k\n",
    "            \n"
   ]
  },
  {
   "cell_type": "code",
   "execution_count": 6,
   "id": "5199bf0c",
   "metadata": {},
   "outputs": [],
   "source": [
    "# Exports file as csv\n",
    "projects.to_csv(\"World_Bank_Projects_Cleaned.csv\", index=False, header=True)"
   ]
  }
 ],
 "metadata": {
  "kernelspec": {
   "display_name": "Python 3 (ipykernel)",
   "language": "python",
   "name": "python3"
  },
  "language_info": {
   "codemirror_mode": {
    "name": "ipython",
    "version": 3
   },
   "file_extension": ".py",
   "mimetype": "text/x-python",
   "name": "python",
   "nbconvert_exporter": "python",
   "pygments_lexer": "ipython3",
   "version": "3.11.0"
  }
 },
 "nbformat": 4,
 "nbformat_minor": 5
}
